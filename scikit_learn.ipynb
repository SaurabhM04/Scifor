{
 "cells": [
  {
   "cell_type": "code",
   "execution_count": 1,
   "id": "0d294a45",
   "metadata": {},
   "outputs": [],
   "source": [
    "import pandas as pd\n",
    "\n",
    "train_df = pd.read_csv('era_tour.csv')\n",
    "test_df = pd.read_csv('era_tour.csv')\n"
   ]
  },
  {
   "cell_type": "code",
   "execution_count": 2,
   "id": "c48443ed",
   "metadata": {},
   "outputs": [
    {
     "name": "stdout",
     "output_type": "stream",
     "text": [
      "    artist_name                              track_name  is_explicit  \\\n",
      "0  Taylor Swift  Miss Americana & The Heartbreak Prince        False   \n",
      "1  Taylor Swift                            Cruel Summer        False   \n",
      "2  Taylor Swift                                 The Man        False   \n",
      "3  Taylor Swift                   You Need To Calm Down        False   \n",
      "4  Taylor Swift                                   Lover        False   \n",
      "\n",
      "  album_release_date genres  danceability  valence  energy  loudness  \\\n",
      "0         2019-08-23    pop         0.662    0.487   0.747    -6.926   \n",
      "1         2019-08-23    pop         0.552    0.564   0.702    -5.707   \n",
      "2         2019-08-23    pop         0.777    0.633   0.658    -5.191   \n",
      "3         2019-08-23    pop         0.771    0.714   0.671    -5.617   \n",
      "4         2019-08-23    pop         0.359    0.453   0.543    -7.582   \n",
      "\n",
      "   acousticness  instrumentalness  liveness  speechiness  key    tempo  mode  \\\n",
      "0       0.02800          0.006150    0.1380       0.0736   11  150.088     0   \n",
      "1       0.11700          0.000021    0.1050       0.1570    9  169.994     1   \n",
      "2       0.07670          0.000000    0.0901       0.0540    0  110.048     1   \n",
      "3       0.00929          0.000000    0.0637       0.0553    2   85.026     1   \n",
      "4       0.49200          0.000016    0.1180       0.0919    7   68.534     1   \n",
      "\n",
      "   duration_ms  time_signature  popularity  \n",
      "0       234147               4          79  \n",
      "1       178427               4          94  \n",
      "2       190360               4          82  \n",
      "3       171360               4          81  \n",
      "4       221307               4          88  \n"
     ]
    }
   ],
   "source": [
    "print(train_df.head())\n"
   ]
  },
  {
   "cell_type": "code",
   "execution_count": 3,
   "id": "965f4291",
   "metadata": {},
   "outputs": [
    {
     "name": "stdout",
     "output_type": "stream",
     "text": [
      "<class 'pandas.core.frame.DataFrame'>\n",
      "RangeIndex: 44 entries, 0 to 43\n",
      "Data columns (total 19 columns):\n",
      " #   Column              Non-Null Count  Dtype  \n",
      "---  ------              --------------  -----  \n",
      " 0   artist_name         44 non-null     object \n",
      " 1   track_name          44 non-null     object \n",
      " 2   is_explicit         44 non-null     bool   \n",
      " 3   album_release_date  44 non-null     object \n",
      " 4   genres              44 non-null     object \n",
      " 5   danceability        44 non-null     float64\n",
      " 6   valence             44 non-null     float64\n",
      " 7   energy              44 non-null     float64\n",
      " 8   loudness            44 non-null     float64\n",
      " 9   acousticness        44 non-null     float64\n",
      " 10  instrumentalness    44 non-null     float64\n",
      " 11  liveness            44 non-null     float64\n",
      " 12  speechiness         44 non-null     float64\n",
      " 13  key                 44 non-null     int64  \n",
      " 14  tempo               44 non-null     float64\n",
      " 15  mode                44 non-null     int64  \n",
      " 16  duration_ms         44 non-null     int64  \n",
      " 17  time_signature      44 non-null     int64  \n",
      " 18  popularity          44 non-null     int64  \n",
      "dtypes: bool(1), float64(9), int64(5), object(4)\n",
      "memory usage: 6.4+ KB\n",
      "None\n"
     ]
    }
   ],
   "source": [
    "print(train_df.info())\n"
   ]
  },
  {
   "cell_type": "code",
   "execution_count": 4,
   "id": "dadbcd4d",
   "metadata": {},
   "outputs": [
    {
     "name": "stdout",
     "output_type": "stream",
     "text": [
      "       danceability    valence     energy   loudness  acousticness  \\\n",
      "count     44.000000  44.000000  44.000000  44.000000     44.000000   \n",
      "mean       0.599477   0.395736   0.576909  -7.895841      0.280691   \n",
      "std        0.110550   0.202988   0.172917   2.509138      0.293417   \n",
      "min        0.359000   0.049900   0.240000 -14.132000      0.000443   \n",
      "25%        0.534250   0.225250   0.408500 -10.236500      0.036375   \n",
      "50%        0.609500   0.416000   0.600000  -7.510500      0.126500   \n",
      "75%        0.646500   0.511750   0.713000  -5.707000      0.524250   \n",
      "max        0.872000   0.903000   0.866000  -3.546000      0.920000   \n",
      "\n",
      "       instrumentalness   liveness  speechiness        key       tempo  \\\n",
      "count         44.000000  44.000000    44.000000  44.000000   44.000000   \n",
      "mean           0.000798   0.137098     0.075068   5.272727  123.261841   \n",
      "std            0.003592   0.085399     0.063762   3.636786   32.815035   \n",
      "min            0.000000   0.057600     0.025300   0.000000   68.534000   \n",
      "25%            0.000000   0.090850     0.034500   2.000000   95.715500   \n",
      "50%            0.000003   0.106000     0.056700   6.500000  122.920000   \n",
      "75%            0.000062   0.146250     0.081100   8.000000  151.068000   \n",
      "max            0.023200   0.475000     0.387000  11.000000  192.004000   \n",
      "\n",
      "            mode    duration_ms  time_signature  popularity  \n",
      "count  44.000000      44.000000       44.000000   44.000000  \n",
      "mean    0.840909  237853.909091        3.931818   81.250000  \n",
      "std     0.369989   70780.296004        0.452267    5.747092  \n",
      "min     0.000000  164801.000000        1.000000   70.000000  \n",
      "25%     1.000000  204238.000000        4.000000   78.000000  \n",
      "50%     1.000000  228882.500000        4.000000   80.500000  \n",
      "75%     1.000000  242194.000000        4.000000   86.000000  \n",
      "max     1.000000  613027.000000        4.000000   95.000000  \n"
     ]
    }
   ],
   "source": [
    "print(train_df.describe())"
   ]
  },
  {
   "cell_type": "code",
   "execution_count": 15,
   "id": "7973ca20",
   "metadata": {},
   "outputs": [
    {
     "data": {
      "image/png": "[encoded data removed]",
      "text/plain": [
       "<Figure size 1000x600 with 1 Axes>"
      ]
     },
     "metadata": {},
     "output_type": "display_data"
    }
   ],
   "source": [
    "import matplotlib.pyplot as plt\n",
    "\n",
    "plt.figure(figsize=(10, 6))\n",
    "train_df['popularity'].hist(bins=20)\n",
    "plt.title('Distribution of Popularity')\n",
    "plt.xlabel('Popularity')\n",
    "plt.ylabel('Frequency')\n",
    "plt.show()"
   ]
  },
  {
   "cell_type": "code",
   "execution_count": 6,
   "id": "aecf024e",
   "metadata": {},
   "outputs": [],
   "source": [
    "train_df['album_release_date'] = pd.to_datetime(train_df['album_release_date'])\n",
    "\n",
    "train_df['is_explicit'] = train_df['is_explicit'].astype(int)\n",
    "\n",
    "train_df = pd.get_dummies(train_df, columns=['genres'], drop_first=True)\n"
   ]
  },
  {
   "cell_type": "code",
   "execution_count": null,
   "id": "83519cb0",
   "metadata": {},
   "outputs": [],
   "source": []
  },
  {
   "cell_type": "code",
   "execution_count": 7,
   "id": "cc1e99c8",
   "metadata": {},
   "outputs": [],
   "source": [
    "train_df['release_year'] = train_df['album_release_date'].dt.year\n",
    "train_df['release_month'] = train_df['album_release_date'].dt.month\n",
    "train_df['release_day'] = train_df['album_release_date'].dt.day\n",
    "\n",
    "train_df.drop('album_release_date', axis=1, inplace=True)\n"
   ]
  },
  {
   "cell_type": "code",
   "execution_count": 8,
   "id": "6910c0fc",
   "metadata": {},
   "outputs": [
    {
     "data": {
      "text/html": [
       "<style>#sk-container-id-1 {color: black;}#sk-container-id-1 pre{padding: 0;}#sk-container-id-1 div.sk-toggleable {background-color: white;}#sk-container-id-1 label.sk-toggleable__label {cursor: pointer;display: block;width: 100%;margin-bottom: 0;padding: 0.3em;box-sizing: border-box;text-align: center;}#sk-container-id-1 label.sk-toggleable__label-arrow:before {content: \"▸\";float: left;margin-right: 0.25em;color: #696969;}#sk-container-id-1 label.sk-toggleable__label-arrow:hover:before {color: black;}#sk-container-id-1 div.sk-estimator:hover label.sk-toggleable__label-arrow:before {color: black;}#sk-container-id-1 div.sk-toggleable__content {max-height: 0;max-width: 0;overflow: hidden;text-align: left;background-color: #f0f8ff;}#sk-container-id-1 div.sk-toggleable__content pre {margin: 0.2em;color: black;border-radius: 0.25em;background-color: #f0f8ff;}#sk-container-id-1 input.sk-toggleable__control:checked~div.sk-toggleable__content {max-height: 200px;max-width: 100%;overflow: auto;}#sk-container-id-1 input.sk-toggleable__control:checked~label.sk-toggleable__label-arrow:before {content: \"▾\";}#sk-container-id-1 div.sk-estimator input.sk-toggleable__control:checked~label.sk-toggleable__label {background-color: #d4ebff;}#sk-container-id-1 div.sk-label input.sk-toggleable__control:checked~label.sk-toggleable__label {background-color: #d4ebff;}#sk-container-id-1 input.sk-hidden--visually {border: 0;clip: rect(1px 1px 1px 1px);clip: rect(1px, 1px, 1px, 1px);height: 1px;margin: -1px;overflow: hidden;padding: 0;position: absolute;width: 1px;}#sk-container-id-1 div.sk-estimator {font-family: monospace;background-color: #f0f8ff;border: 1px dotted black;border-radius: 0.25em;box-sizing: border-box;margin-bottom: 0.5em;}#sk-container-id-1 div.sk-estimator:hover {background-color: #d4ebff;}#sk-container-id-1 div.sk-parallel-item::after {content: \"\";width: 100%;border-bottom: 1px solid gray;flex-grow: 1;}#sk-container-id-1 div.sk-label:hover label.sk-toggleable__label {background-color: #d4ebff;}#sk-container-id-1 div.sk-serial::before {content: \"\";position: absolute;border-left: 1px solid gray;box-sizing: border-box;top: 0;bottom: 0;left: 50%;z-index: 0;}#sk-container-id-1 div.sk-serial {display: flex;flex-direction: column;align-items: center;background-color: white;padding-right: 0.2em;padding-left: 0.2em;position: relative;}#sk-container-id-1 div.sk-item {position: relative;z-index: 1;}#sk-container-id-1 div.sk-parallel {display: flex;align-items: stretch;justify-content: center;background-color: white;position: relative;}#sk-container-id-1 div.sk-item::before, #sk-container-id-1 div.sk-parallel-item::before {content: \"\";position: absolute;border-left: 1px solid gray;box-sizing: border-box;top: 0;bottom: 0;left: 50%;z-index: -1;}#sk-container-id-1 div.sk-parallel-item {display: flex;flex-direction: column;z-index: 1;position: relative;background-color: white;}#sk-container-id-1 div.sk-parallel-item:first-child::after {align-self: flex-end;width: 50%;}#sk-container-id-1 div.sk-parallel-item:last-child::after {align-self: flex-start;width: 50%;}#sk-container-id-1 div.sk-parallel-item:only-child::after {width: 0;}#sk-container-id-1 div.sk-dashed-wrapped {border: 1px dashed gray;margin: 0 0.4em 0.5em 0.4em;box-sizing: border-box;padding-bottom: 0.4em;background-color: white;}#sk-container-id-1 div.sk-label label {font-family: monospace;font-weight: bold;display: inline-block;line-height: 1.2em;}#sk-container-id-1 div.sk-label-container {text-align: center;}#sk-container-id-1 div.sk-container {/* jupyter's `normalize.less` sets `[hidden] { display: none; }` but bootstrap.min.css set `[hidden] { display: none !important; }` so we also need the `!important` here to be able to override the default hidden behavior on the sphinx rendered scikit-learn.org. See: https://github.com/scikit-learn/scikit-learn/issues/21755 */display: inline-block !important;position: relative;}#sk-container-id-1 div.sk-text-repr-fallback {display: none;}</style><div id=\"sk-container-id-1\" class=\"sk-top-container\"><div class=\"sk-text-repr-fallback\"><pre>RandomForestRegressor(random_state=42)</pre><b>In a Jupyter environment, please rerun this cell to show the HTML representation or trust the notebook. <br />On GitHub, the HTML representation is unable to render, please try loading this page with nbviewer.org.</b></div><div class=\"sk-container\" hidden><div class=\"sk-item\"><div class=\"sk-estimator sk-toggleable\"><input class=\"sk-toggleable__control sk-hidden--visually\" id=\"sk-estimator-id-1\" type=\"checkbox\" checked><label for=\"sk-estimator-id-1\" class=\"sk-toggleable__label sk-toggleable__label-arrow\">RandomForestRegressor</label><div class=\"sk-toggleable__content\"><pre>RandomForestRegressor(random_state=42)</pre></div></div></div></div></div>"
      ],
      "text/plain": [
       "RandomForestRegressor(random_state=42)"
      ]
     },
     "execution_count": 8,
     "metadata": {},
     "output_type": "execute_result"
    }
   ],
   "source": [
    "from sklearn.model_selection import train_test_split\n",
    "from sklearn.ensemble import RandomForestRegressor\n",
    "from sklearn.metrics import mean_squared_error\n",
    "\n",
    "X = train_df.drop(['track_name', 'artist_name', 'popularity'], axis=1)\n",
    "y = train_df['popularity']\n",
    "\n",
    "# Split the data\n",
    "X_train, X_test, y_train, y_test = train_test_split(X, y, test_size=0.2, random_state=42)\n",
    "\n",
    "# Train a Random Forest model\n",
    "model = RandomForestRegressor(n_estimators=100, random_state=42)\n",
    "model.fit(X_train, y_train)\n"
   ]
  },
  {
   "cell_type": "code",
   "execution_count": 9,
   "id": "53767277",
   "metadata": {},
   "outputs": [
    {
     "name": "stdout",
     "output_type": "stream",
     "text": [
      "Test RMSE: 4.080842777880297\n"
     ]
    }
   ],
   "source": [
    "# Predict on the test set\n",
    "y_pred = model.predict(X_test)\n",
    "\n",
    "# Calculate RMSE\n",
    "rmse = mean_squared_error(y_test, y_pred, squared=False)\n",
    "print(f'Test RMSE: {rmse}')\n"
   ]
  },
  {
   "cell_type": "code",
   "execution_count": 11,
   "id": "cac7c687",
   "metadata": {},
   "outputs": [
    {
     "name": "stdout",
     "output_type": "stream",
     "text": [
      "Test RMSE: 2.4338474965296477\n"
     ]
    }
   ],
   "source": [
    "predictions = model.predict(X)\n",
    "\n",
    "# Calculate RMSE\n",
    "rmse = mean_squared_error(y, predictions, squared=False)\n",
    "print(f'Test RMSE: {rmse}')\n"
   ]
  },
  {
   "cell_type": "code",
   "execution_count": 13,
   "id": "9f1a3c0e",
   "metadata": {},
   "outputs": [
    {
     "name": "stdout",
     "output_type": "stream",
     "text": [
      "                               track_name   artist_name  Predicted_Popularity\n",
      "0  Miss Americana & The Heartbreak Prince  Taylor Swift                 80.15\n",
      "1                            Cruel Summer  Taylor Swift                 88.65\n",
      "2                                 The Man  Taylor Swift                 82.31\n",
      "3                   You Need To Calm Down  Taylor Swift                 81.52\n",
      "4                                   Lover  Taylor Swift                 84.98\n"
     ]
    }
   ],
   "source": [
    "results = train_df[['track_name', 'artist_name']].copy()\n",
    "results['Predicted_Popularity'] = predictions\n",
    "\n",
    "# Display the first few rows of the results\n",
    "print(results.head())"
   ]
  },
  {
   "cell_type": "code",
   "execution_count": 14,
   "id": "5078d221",
   "metadata": {},
   "outputs": [],
   "source": [
    "results.to_csv('predicted_popularity.csv', index=False)"
   ]
  },
  {
   "cell_type": "code",
   "execution_count": null,
   "id": "bc2a8f0c",
   "metadata": {},
   "outputs": [],
   "source": []
  }
 ],
 "metadata": {
  "kernelspec": {
   "display_name": "Python 3 (ipykernel)",
   "language": "python",
   "name": "python3"
  },
  "language_info": {
   "codemirror_mode": {
    "name": "ipython",
    "version": 3
   },
   "file_extension": ".py",
   "mimetype": "text/x-python",
   "name": "python",
   "nbconvert_exporter": "python",
   "pygments_lexer": "ipython3",
   "version": "3.11.4"
  }
 },
 "nbformat": 4,
 "nbformat_minor": 5
}
